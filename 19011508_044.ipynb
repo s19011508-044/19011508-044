{
  "nbformat": 4,
  "nbformat_minor": 0,
  "metadata": {
    "colab": {
      "name": "19011508-044",
      "provenance": [],
      "collapsed_sections": []
    },
    "kernelspec": {
      "name": "python3",
      "display_name": "Python 3"
    },
    "language_info": {
      "name": "python"
    }
  },
  "cells": [
    {
      "cell_type": "code",
      "metadata": {
        "colab": {
          "base_uri": "https://localhost:8080/"
        },
        "id": "QrZ-Cfqyc34v",
        "outputId": "db1a17ac-17e3-4911-b458-99ba4a139353"
      },
      "source": [
        "values = input(\"Input some comma seprated numbers : \")\n",
        "list = values.split(\",\")\n",
        "tuple = tuple(list)\n",
        "print('List1 : ',list)\n",
        "print('Tuple : ',tuple)"
      ],
      "execution_count": 1,
      "outputs": [
        {
          "output_type": "stream",
          "text": [
            "Input some comma seprated numbers : 4,3,2,1\n",
            "List1 :  ['4', '3', '2', '1']\n",
            "Tuple :  ('4', '3', '2', '1')\n"
          ],
          "name": "stdout"
        }
      ]
    },
    {
      "cell_type": "code",
      "metadata": {
        "colab": {
          "base_uri": "https://localhost:8080/"
        },
        "id": "EnPJSOp_dFI5",
        "outputId": "8505d547-98cf-41bb-d482-0747d75467bd"
      },
      "source": [
        "def remove_nums(int_list):\n",
        "  #list starts with 0 index\n",
        "  position = 3 - 1 \n",
        "  idx = 0\n",
        "  len_list = (len(int_list))\n",
        "  while len_list>0:\n",
        "    idx = (position+idx)%len_list\n",
        "    print(int_list.pop(idx))\n",
        "    len_list -= 1\n",
        "nums = [34,45,54,23,12,15,78,67,76]\n",
        "remove_nums(nums)"
      ],
      "execution_count": 2,
      "outputs": [
        {
          "output_type": "stream",
          "text": [
            "54\n",
            "15\n",
            "76\n",
            "23\n",
            "67\n",
            "12\n",
            "45\n",
            "78\n",
            "34\n"
          ],
          "name": "stdout"
        }
      ]
    },
    {
      "cell_type": "code",
      "metadata": {
        "colab": {
          "base_uri": "https://localhost:8080/"
        },
        "id": "dvkjVo7YdUMD",
        "outputId": "5f6b5c34-f3c8-4a98-ad74-ec25d7e3889d"
      },
      "source": [
        "def test_distinct(data):\n",
        "  if len(data) == len(set(data)):\n",
        "    return True\n",
        "  else:\n",
        "    return False;\n",
        "print(test_distinct([1,2,4,8]))\n",
        "print(test_distinct([2,3,4,4,9,1]))"
      ],
      "execution_count": 3,
      "outputs": [
        {
          "output_type": "stream",
          "text": [
            "True\n",
            "False\n"
          ],
          "name": "stdout"
        }
      ]
    },
    {
      "cell_type": "code",
      "metadata": {
        "colab": {
          "base_uri": "https://localhost:8080/"
        },
        "id": "W4x5cv2qdoiC",
        "outputId": "bf479c17-e8d6-472c-b29f-d916cc68b108"
      },
      "source": [
        "pi= 3.14\n",
        "r = float(input (\"input the radius of the circle:\"))\n",
        "area= pi*r*r\n",
        "print(\"the area of the circle with radius \" +str(r) + \"is:%.2f\"%area)"
      ],
      "execution_count": 4,
      "outputs": [
        {
          "output_type": "stream",
          "text": [
            "input the radius of the circle:3\n",
            "the area of the circle with radius 3.0is:28.26\n"
          ],
          "name": "stdout"
        }
      ]
    }
  ]
}